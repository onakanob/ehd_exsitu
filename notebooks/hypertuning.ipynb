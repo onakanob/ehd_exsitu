{
 "cells": [
  {
   "cell_type": "code",
   "execution_count": 3,
   "id": "ac5f3e35-7d2c-4717-a86c-8e7cfc3d4d90",
   "metadata": {},
   "outputs": [
    {
     "name": "stdout",
     "output_type": "stream",
     "text": [
      "The autoreload extension is already loaded. To reload it, use:\n",
      "  %reload_ext autoreload\n",
      "Failed to load 10-Mar-2022 large nozzle mosaic: 'DataFrame' object has no attribute 'note'\n",
      "dataset C:\\Dropbox\\SPEED\\Self Driving EHD\\Datasets\\29-Mar-2022 lg 1cm 300 points\toffset 0\tcorr 0.4960008364961841\n",
      "dataset C:\\Dropbox\\SPEED\\Self Driving EHD\\Datasets\\2-May-2022__run 1\toffset 7\tcorr 0.20797462285908108\n",
      "dataset C:\\Dropbox\\SPEED\\Self Driving EHD\\Datasets\\2-May-2022__run 2\toffset 4\tcorr 0.5656140913387249\n",
      "dataset C:\\Dropbox\\SPEED\\Self Driving EHD\\Datasets\\23-May-2022_squares\toffset 8\tcorr 0.5137128998522692\n",
      "dataset C:\\Dropbox\\SPEED\\Self Driving EHD\\Datasets\\24-May-2022 large harmonics\toffset 0\tcorr 0.5869081626562916\n"
     ]
    }
   ],
   "source": [
    "import sys\n",
    "\n",
    "import numpy as np\n",
    "import pandas as pd\n",
    "from matplotlib import pyplot as plt\n",
    "\n",
    "sys.path.append('..')\n",
    "from ehd_dataset import EHD_Loader\n",
    "from ehd_models import EHD_Model\n",
    "\n",
    "\n",
    "%matplotlib inline\n",
    "plt.rcParams['figure.figsize'] = (10.0, 8.0) # set default size of plots\n",
    "plt.rcParams['image.interpolation'] = 'nearest'\n",
    "plt.rcParams['image.cmap'] = 'gray'\n",
    "\n",
    "# for auto-reloading extenrnal modules\n",
    "# see http://stackoverflow.com/questions/1907993/autoreload-of-modules-in-ipython\n",
    "%load_ext autoreload\n",
    "%autoreload 2\n",
    "\n",
    "INDEX = \"C:\\Dropbox\\SPEED\\Self Driving EHD\\Datasets\\dataset_index.xlsx\"\n",
    "loader = EHD_Loader(INDEX)"
   ]
  },
  {
   "cell_type": "code",
   "execution_count": null,
   "id": "e4a25fea-ffff-4d00-bb65-cea81892e497",
   "metadata": {},
   "outputs": [],
   "source": [
    "from ehd_models import EHD_Model\n",
    "\n",
    "archs = {'MLE': {},\n",
    "         'cold_RF': {}}\n",
    "for architecture, params in archs.items():  # Print Area Regression Models <<<<<<<<<<<<<<<<<<<<\n",
    "    model = EHD_Model(architecture=architecture, params=params)\n",
    "    hyperparams = model.tune(timelimit=1)\n",
    "    archs[architecture] = hyperparams\n",
    "print(archs)"
   ]
  }
 ],
 "metadata": {
  "kernelspec": {
   "display_name": "Python 3",
   "language": "python",
   "name": "python3"
  },
  "language_info": {
   "codemirror_mode": {
    "name": "ipython",
    "version": 3
   },
   "file_extension": ".py",
   "mimetype": "text/x-python",
   "name": "python",
   "nbconvert_exporter": "python",
   "pygments_lexer": "ipython3",
   "version": "3.9.5"
  }
 },
 "nbformat": 4,
 "nbformat_minor": 5
}
