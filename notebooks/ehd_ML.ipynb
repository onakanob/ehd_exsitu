{
 "cells": [
  {
   "cell_type": "markdown",
   "id": "971e0bed-b911-4643-8d7d-0bc136550c44",
   "metadata": {},
   "source": [
    "# Exploring multiple approaches to machine learning across multiple small EHD experimental datasets\n",
    " - The task is to predict (regress) the size of printed features, as a function of waveform inputs to the EHD printer\n",
    " - A second task is to predict (classify) whether a given waveform input will produce any printed pattern at all. (This is equivalent to understanding the print onset voltage threshold.)\n",
    " - Multiple hidden confounding variables are likely, such as ink/tip/substrate/atmospheric condition; ink and tip clogging; print tip height from the substrate. Some of these will be relatively constant for each run of experiments, some will vary from feature to feature.\n",
    " - Ink dynamics at the printing tip are complex and nonlinear, with electrical and fluid/acoustic phenomena that interact with each other.\n",
    "\n",
    "## Goals\n",
    " - In regression, aim for <3% mean absolute error (from the predicted outcome)\n",
    " - In classification, aim for >0.9 ROC AUC\n",
    " - For a new/test set, achieve these in <=100 experiments"
   ]
  },
  {
   "cell_type": "code",
   "execution_count": 2,
   "id": "30913236-8a5d-4983-b31b-9ae56f38dbca",
   "metadata": {},
   "outputs": [],
   "source": [
    "import sys\n",
    "\n",
    "import numpy as np\n",
    "import pandas as pd\n",
    "from matplotlib import pyplot as plt\n",
    "\n",
    "from scipy.stats import pearsonr\n",
    "\n",
    "sys.path.append('..')\n",
    "from ehd_dataset import EHD_Loader\n",
    "from ehd_models import EHD_Model\n",
    "\n",
    "\n",
    "%matplotlib inline\n",
    "plt.rcParams['figure.figsize'] = (10.0, 8.0) # set default size of plots\n",
    "plt.rcParams['image.interpolation'] = 'nearest'\n",
    "plt.rcParams['image.cmap'] = 'gray'\n",
    "\n",
    "# for auto-reloading extenrnal modules\n",
    "# see http://stackoverflow.com/questions/1907993/autoreload-of-modules-in-ipython\n",
    "%load_ext autoreload\n",
    "%autoreload 2"
   ]
  },
  {
   "cell_type": "code",
   "execution_count": 5,
   "id": "2c326ac0-8e77-4024-8fde-d3bfe5aaa08c",
   "metadata": {},
   "outputs": [
    {
     "name": "stdout",
     "output_type": "stream",
     "text": [
      "Failed to load 10-Mar-2022 large nozzle mosaic: 'DataFrame' object has no attribute 'note'\n",
      "dataset C:\\Dropbox\\SPEED\\Self Driving EHD\\Datasets\\29-Mar-2022 lg 1cm 300 points\toffset 0\tcorr 0.4960008364961841\n",
      "dataset C:\\Dropbox\\SPEED\\Self Driving EHD\\Datasets\\2-May-2022__run 1\toffset 7\tcorr 0.20797462285908108\n",
      "dataset C:\\Dropbox\\SPEED\\Self Driving EHD\\Datasets\\2-May-2022__run 2\toffset 4\tcorr 0.5656140913387249\n",
      "dataset C:\\Dropbox\\SPEED\\Self Driving EHD\\Datasets\\23-May-2022_squares\toffset 8\tcorr 0.5137128998522692\n",
      "dataset C:\\Dropbox\\SPEED\\Self Driving EHD\\Datasets\\24-May-2022 large harmonics\toffset 0\tcorr 0.5869081626562916\n",
      "Datasets Loaded!\n",
      "\n",
      "Quick correlation validation check:\n",
      "29-Mar-2022 lg 1cm 300 points\n",
      "AUAC correlation: 0.49600083649618404\n",
      "Vec L2 correlation: 0.64987002472606\n",
      "2-May-2022__run 1\n",
      "AUAC correlation: 0.20797462285908108\n",
      "Vec L2 correlation: 0.23905650694665798\n",
      "2-May-2022__run 2\n",
      "AUAC correlation: 0.5656140913387248\n",
      "Vec L2 correlation: 0.7481951849730066\n",
      "23-May-2022_squares\n",
      "AUAC correlation: 0.5137128998522692\n",
      "Vec L2 correlation: 0.6304360314136237\n",
      "24-May-2022 large harmonics\n",
      "AUAC correlation: 0.5869081626562916\n",
      "Vec L2 correlation: 0.7636708566560855\n"
     ]
    }
   ],
   "source": [
    "INDEX = \"C:\\Dropbox\\SPEED\\Self Driving EHD\\Datasets\\dataset_index.xlsx\"\n",
    "loader = EHD_Loader(INDEX)\n",
    "print(\"Datasets Loaded!\\n\\nQuick correlation validation check:\")\n",
    "\n",
    "for i, df in enumerate(loader.datasets):\n",
    "    print(loader.names[i])\n",
    "    corr, _ = pearsonr(df.area,\n",
    "                       df.wave.apply(lambda x: np.sum(np.abs(x))))\n",
    "    print(f\"AUAC correlation: {corr}\")\n",
    "    # Area has >0.7 corr vs L2-norm of the wavevector\n",
    "    corr, _ = pearsonr(df.area,\n",
    "                       df.vector.apply(lambda x: np.sqrt(np.sum(x**2))))\n",
    "    print(f\"Vec L2 correlation: {corr}\")"
   ]
  },
  {
   "cell_type": "code",
   "execution_count": 12,
   "id": "a5afbe9d-9041-40c6-9389-633bf5cb5eb2",
   "metadata": {},
   "outputs": [
    {
     "name": "stdout",
     "output_type": "stream",
     "text": [
      "Unexpected exception formatting exception. Falling back to standard exception\n"
     ]
    },
    {
     "name": "stderr",
     "output_type": "stream",
     "text": [
      "Traceback (most recent call last):\n",
      "  File \"C:\\Anaconda3\\envs\\ehd\\lib\\site-packages\\IPython\\core\\interactiveshell.py\", line 3397, in run_code\n",
      "    exec(code_obj, self.user_global_ns, self.user_ns)\n",
      "  File \"C:\\Users\\Oliver\\AppData\\Local\\Temp\\ipykernel_3924\\330442334.py\", line 8, in <cell line: 4>\n",
      "    pretrain_set, eval_set, fold_name = loader.folded_dataset(fold=fold, xtype='vector', ytype='area')\n",
      "  File \"C:\\Dropbox\\Python\\ehd_exsitu\\notebooks\\..\\ehd_dataset\\dataset.py\", line 130, in folded_dataset\n",
      "    eval_set['X'] = np.concatenate((eval_set['X'],\n",
      "  File \"<__array_function__ internals>\", line 5, in concatenate\n",
      "ValueError: all the input arrays must have same number of dimensions, but the array at index 0 has 1 dimension(s) and the array at index 1 has 2 dimension(s)\n",
      "\n",
      "During handling of the above exception, another exception occurred:\n",
      "\n",
      "Traceback (most recent call last):\n",
      "  File \"C:\\Anaconda3\\envs\\ehd\\lib\\site-packages\\IPython\\core\\interactiveshell.py\", line 1992, in showtraceback\n",
      "    stb = self.InteractiveTB.structured_traceback(\n",
      "  File \"C:\\Anaconda3\\envs\\ehd\\lib\\site-packages\\IPython\\core\\ultratb.py\", line 1118, in structured_traceback\n",
      "    return FormattedTB.structured_traceback(\n",
      "  File \"C:\\Anaconda3\\envs\\ehd\\lib\\site-packages\\IPython\\core\\ultratb.py\", line 1012, in structured_traceback\n",
      "    return VerboseTB.structured_traceback(\n",
      "  File \"C:\\Anaconda3\\envs\\ehd\\lib\\site-packages\\IPython\\core\\ultratb.py\", line 865, in structured_traceback\n",
      "    formatted_exception = self.format_exception_as_a_whole(etype, evalue, etb, number_of_lines_of_context,\n",
      "  File \"C:\\Anaconda3\\envs\\ehd\\lib\\site-packages\\IPython\\core\\ultratb.py\", line 818, in format_exception_as_a_whole\n",
      "    frames.append(self.format_record(r))\n",
      "  File \"C:\\Anaconda3\\envs\\ehd\\lib\\site-packages\\IPython\\core\\ultratb.py\", line 736, in format_record\n",
      "    result += ''.join(_format_traceback_lines(frame_info.lines, Colors, self.has_colors, lvals))\n",
      "  File \"C:\\Anaconda3\\envs\\ehd\\lib\\site-packages\\stack_data\\utils.py\", line 145, in cached_property_wrapper\n",
      "    value = obj.__dict__[self.func.__name__] = self.func(obj)\n",
      "  File \"C:\\Anaconda3\\envs\\ehd\\lib\\site-packages\\stack_data\\core.py\", line 698, in lines\n",
      "    pieces = self.included_pieces\n",
      "  File \"C:\\Anaconda3\\envs\\ehd\\lib\\site-packages\\stack_data\\utils.py\", line 145, in cached_property_wrapper\n",
      "    value = obj.__dict__[self.func.__name__] = self.func(obj)\n",
      "  File \"C:\\Anaconda3\\envs\\ehd\\lib\\site-packages\\stack_data\\core.py\", line 649, in included_pieces\n",
      "    pos = scope_pieces.index(self.executing_piece)\n",
      "  File \"C:\\Anaconda3\\envs\\ehd\\lib\\site-packages\\stack_data\\utils.py\", line 145, in cached_property_wrapper\n",
      "    value = obj.__dict__[self.func.__name__] = self.func(obj)\n",
      "  File \"C:\\Anaconda3\\envs\\ehd\\lib\\site-packages\\stack_data\\core.py\", line 628, in executing_piece\n",
      "    return only(\n",
      "  File \"C:\\Anaconda3\\envs\\ehd\\lib\\site-packages\\executing\\executing.py\", line 164, in only\n",
      "    raise NotOneValueFound('Expected one value, found 0')\n",
      "executing.executing.NotOneValueFound: Expected one value, found 0\n"
     ]
    }
   ],
   "source": [
    "from ehd_models import EHD_Model\n",
    "\n",
    "reg_results = pd.DataFrame(columns=('architecture', 'fold', 'train_size', 'MAE', 'PAE'))\n",
    "for architecture in ('MLE'):  # Print Area Regression Models <<<<<<<<<<<<<<<<<<<<\n",
    "    model = EHD_Model(architecture=architecture)\n",
    "\n",
    "    for fold in range(loader.num_folds):\n",
    "        pretrain_set, eval_set, fold_name = loader.folded_dataset(fold=fold, xtype='vector', ytype='area')\n",
    "        model.pretrain(pretrain_set)\n",
    "        output = model.evaluate(eval_set)\n",
    "\n",
    "        output['architecture'] = architecture\n",
    "        output['fold'] = fold_name\n",
    "        reg_results.append(output, ignore_index=True)\n",
    "\n",
    "\n",
    "class_results = pd.DataFrame(columns=('architecture', 'fold', 'train_size', 'AUC'))\n",
    "for architecture in ('MLE_class'):  # Jetting Classification Models <<<<<<<<<<<<<<<<<<<<\n",
    "    model = EHD_Model(architecture=architecture)\n",
    "\n",
    "    for fold in range(loader.num_folds):\n",
    "        pretrain_set, eval_set = loader.folded_dataset(fold=fold, xtype='vector', ytype='area')\n",
    "        model.pretrain(pretrain_set)\n",
    "        output = model.evaluate(eval_set)\n",
    "\n",
    "        output['architecture'] = architecture\n",
    "        output['fold'] = fold\n",
    "        class_results.append(output, ignore_index=True)"
   ]
  }
 ],
 "metadata": {
  "kernelspec": {
   "display_name": "Python 3 (ipykernel)",
   "language": "python",
   "name": "python3"
  },
  "language_info": {
   "codemirror_mode": {
    "name": "ipython",
    "version": 3
   },
   "file_extension": ".py",
   "mimetype": "text/x-python",
   "name": "python",
   "nbconvert_exporter": "python",
   "pygments_lexer": "ipython3",
   "version": "3.10.4"
  }
 },
 "nbformat": 4,
 "nbformat_minor": 5
}
