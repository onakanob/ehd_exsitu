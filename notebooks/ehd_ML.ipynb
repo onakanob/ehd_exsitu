{
 "cells": [
  {
   "cell_type": "markdown",
   "id": "971e0bed-b911-4643-8d7d-0bc136550c44",
   "metadata": {},
   "source": [
    "# Exploring multiple approaches to machine learning across multiple small EHD experimental datasets\n",
    " - The task is to predict (regress) the size of printed features, as a function of waveform inputs to the EHD printer\n",
    " - A second task is to predict (classify) whether a given waveform input will produce any printed pattern at all. (This is equivalent to understanding the print onset voltage threshold.)\n",
    " - Multiple hidden confounding variables are likely, such as ink/tip/substrate/atmospheric condition; ink and tip clogging; print tip height from the substrate. Some of these will be relatively constant for each run of experiments, some will vary from feature to feature.\n",
    " - Ink dynamics at the printing tip are complex and nonlinear, with electrical and fluid/acoustic phenomena that interact with each other.\n",
    "\n",
    "## Goals\n",
    " - In regression, aim for <3% mean absolute error (from the predicted outcome)\n",
    " - In classification, aim for >0.9 ROC AUC\n",
    " - For a new/test set, achieve these in <=100 experiments"
   ]
  },
  {
   "cell_type": "code",
   "execution_count": 1,
   "id": "30913236-8a5d-4983-b31b-9ae56f38dbca",
   "metadata": {},
   "outputs": [],
   "source": [
    "import sys\n",
    "\n",
    "import numpy as np\n",
    "import pandas as pd\n",
    "from matplotlib import pyplot as plt\n",
    "\n",
    "from scipy.stats import pearsonr\n",
    "\n",
    "sys.path.append('..')\n",
    "from ehd_dataset import EHD_Loader\n",
    "from ehd_models import EHD_Model\n",
    "\n",
    "\n",
    "%matplotlib inline\n",
    "plt.rcParams['figure.figsize'] = (10.0, 8.0) # set default size of plots\n",
    "plt.rcParams['image.interpolation'] = 'nearest'\n",
    "plt.rcParams['image.cmap'] = 'gray'\n",
    "\n",
    "# for auto-reloading extenrnal modules\n",
    "# see http://stackoverflow.com/questions/1907993/autoreload-of-modules-in-ipython\n",
    "%load_ext autoreload\n",
    "%autoreload 2"
   ]
  },
  {
   "cell_type": "code",
   "execution_count": 2,
   "id": "2c326ac0-8e77-4024-8fde-d3bfe5aaa08c",
   "metadata": {},
   "outputs": [
    {
     "name": "stdout",
     "output_type": "stream",
     "text": [
      "Failed to load ./10-Mar-2022 large nozzle mosaic: 'DataFrame' object has no attribute 'note'\n",
      "dataset C:\\Dropbox\\SPEED\\Self Driving EHD\\Datasets\\./29-Mar-2022 lg 1cm 300 points\toffset 0\tcorr 0.4960008364961841\n",
      "dataset C:\\Dropbox\\SPEED\\Self Driving EHD\\Datasets\\./2-May-2022__run 1\toffset 7\tcorr 0.20797462285908108\n",
      "dataset C:\\Dropbox\\SPEED\\Self Driving EHD\\Datasets\\./2-May-2022__run 2\toffset 4\tcorr 0.5656140913387249\n",
      "dataset C:\\Dropbox\\SPEED\\Self Driving EHD\\Datasets\\./23-May-2022_squares\toffset 8\tcorr 0.5137128998522692\n",
      "dataset C:\\Dropbox\\SPEED\\Self Driving EHD\\Datasets\\./24-May-2022 large harmonics\toffset 0\tcorr 0.5869081626562916\n",
      "Datasets Loaded!\n",
      "\n",
      "Quick correlation validation check:\n",
      "29-Mar-2022 lg 1cm 300 points\n",
      "AUAC correlation: 0.49600083649618404\n",
      "Vec L2 correlation: 0.64987002472606\n",
      "2-May-2022__run 1\n",
      "AUAC correlation: 0.20797462285908108\n",
      "Vec L2 correlation: 0.23905650694665798\n",
      "2-May-2022__run 2\n",
      "AUAC correlation: 0.5656140913387248\n",
      "Vec L2 correlation: 0.7481951849730066\n",
      "23-May-2022_squares\n",
      "AUAC correlation: 0.5137128998522692\n",
      "Vec L2 correlation: 0.6304360314136237\n",
      "24-May-2022 large harmonics\n",
      "AUAC correlation: 0.5869081626562916\n",
      "Vec L2 correlation: 0.7636708566560855\n"
     ]
    }
   ],
   "source": [
    "INDEX = \"C:\\Dropbox\\SPEED\\Self Driving EHD\\Datasets\\dataset_index.xlsx\"\n",
    "loader = EHD_Loader(INDEX)\n",
    "print(\"Datasets Loaded!\\n\\nQuick correlation validation check:\")\n",
    "\n",
    "for i, df in enumerate(loader.datasets):\n",
    "    print(loader.names[i])\n",
    "    corr, _ = pearsonr(df.area,\n",
    "                       df.wave.apply(lambda x: np.sum(np.abs(x))))\n",
    "    print(f\"AUAC correlation: {corr}\")\n",
    "    # Area has >0.7 corr vs L2-norm of the wavevector\n",
    "    corr, _ = pearsonr(df.area,\n",
    "                       df.vector.apply(lambda x: np.sqrt(np.sum(x**2))))\n",
    "    print(f\"Vec L2 correlation: {corr}\")"
   ]
  },
  {
   "cell_type": "code",
   "execution_count": 4,
   "id": "a5afbe9d-9041-40c6-9389-633bf5cb5eb2",
   "metadata": {},
   "outputs": [
    {
     "ename": "AttributeError",
     "evalue": "'EHD_Loader' object has no attribute 'folded_dataset'",
     "output_type": "error",
     "traceback": [
      "\u001b[1;31m---------------------------------------------------------------------------\u001b[0m",
      "\u001b[1;31mAttributeError\u001b[0m                            Traceback (most recent call last)",
      "Input \u001b[1;32mIn [4]\u001b[0m, in \u001b[0;36m<cell line: 4>\u001b[1;34m()\u001b[0m\n\u001b[0;32m      5\u001b[0m model \u001b[38;5;241m=\u001b[39m EHD_Model(architecture\u001b[38;5;241m=\u001b[39marchitecture)\n\u001b[0;32m      7\u001b[0m \u001b[38;5;28;01mfor\u001b[39;00m fold \u001b[38;5;129;01min\u001b[39;00m \u001b[38;5;28mrange\u001b[39m(loader\u001b[38;5;241m.\u001b[39mnum_folds):\n\u001b[1;32m----> 8\u001b[0m     pretrain_set, eval_set \u001b[38;5;241m=\u001b[39m \u001b[43mloader\u001b[49m\u001b[38;5;241;43m.\u001b[39;49m\u001b[43mfolded_dataset\u001b[49m(fold\u001b[38;5;241m=\u001b[39mfold, xtype\u001b[38;5;241m=\u001b[39m\u001b[38;5;124m'\u001b[39m\u001b[38;5;124mvector\u001b[39m\u001b[38;5;124m'\u001b[39m, ytype\u001b[38;5;241m=\u001b[39m\u001b[38;5;124m'\u001b[39m\u001b[38;5;124marea\u001b[39m\u001b[38;5;124m'\u001b[39m)\n\u001b[0;32m      9\u001b[0m     model\u001b[38;5;241m.\u001b[39mpretrain(pretrain_set)\n\u001b[0;32m     10\u001b[0m     output \u001b[38;5;241m=\u001b[39m model\u001b[38;5;241m.\u001b[39mevaluate(eval_set)\n",
      "\u001b[1;31mAttributeError\u001b[0m: 'EHD_Loader' object has no attribute 'folded_dataset'"
     ]
    }
   ],
   "source": [
    "from ehd_models import EHD_Model\n",
    "\n",
    "reg_results = pd.DataFrame(columns=('architecture', 'fold', 'train_size', 'MAE', 'PAE'))\n",
    "for architecture in ('MLE'):  # Print Area Regression\n",
    "    model = EHD_Model(architecture=architecture)\n",
    "\n",
    "    for fold in range(loader.num_folds):\n",
    "        pretrain_set, eval_set = loader.folded_dataset(fold=fold, xtype='vector', ytype='area')\n",
    "        model.pretrain(pretrain_set)\n",
    "        output = model.evaluate(eval_set)\n",
    "\n",
    "        output['architecture'] = architecture\n",
    "        output['fold'] = fold\n",
    "        reg_results.append(output, ignore_index=True)\n",
    "\n",
    "\n",
    "class_results = pd.DataFrame(columns=('architecture', 'fold', 'train_size', 'AUC'))\n",
    "for architecture in ('MLE_class'):  # Jetting Classification\n",
    "    model = EHD_Model(architecture=architecture)\n",
    "\n",
    "    for fold in range(loader.num_folds):\n",
    "        pretrain_set, eval_set = loader.folded_dataset(fold=fold, xtype='vector', ytype='area')\n",
    "        model.pretrain(pretrain_set)\n",
    "        output = model.evaluate(eval_set)\n",
    "\n",
    "        output['architecture'] = architecture\n",
    "        output['fold'] = fold\n",
    "        class_results.append(output, ignore_index=True)"
   ]
  }
 ],
 "metadata": {
  "kernelspec": {
   "display_name": "Python 3 (ipykernel)",
   "language": "python",
   "name": "python3"
  },
  "language_info": {
   "codemirror_mode": {
    "name": "ipython",
    "version": 3
   },
   "file_extension": ".py",
   "mimetype": "text/x-python",
   "name": "python",
   "nbconvert_exporter": "python",
   "pygments_lexer": "ipython3",
   "version": "3.10.4"
  }
 },
 "nbformat": 4,
 "nbformat_minor": 5
}
