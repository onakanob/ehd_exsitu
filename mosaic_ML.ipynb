{
 "cells": [
  {
   "cell_type": "code",
   "execution_count": 4,
   "id": "4a93a039-fcba-4371-a593-40031085afb6",
   "metadata": {},
   "outputs": [
    {
     "name": "stdout",
     "output_type": "stream",
     "text": [
      "The autoreload extension is already loaded. To reload it, use:\n",
      "  %reload_ext autoreload\n"
     ]
    }
   ],
   "source": [
    "from matplotlib import pyplot as plt\n",
    "\n",
    "%matplotlib inline\n",
    "plt.rcParams['figure.figsize'] = (10.0, 8.0) # set default size of plots\n",
    "plt.rcParams['image.interpolation'] = 'nearest'\n",
    "plt.rcParams['image.cmap'] = 'gray'\n",
    "\n",
    "# for auto-reloading extenrnal modules\n",
    "# see http://stackoverflow.com/questions/1907993/autoreload-of-modules-in-ipython\n",
    "%load_ext autoreload\n",
    "%autoreload 2"
   ]
  },
  {
   "cell_type": "code",
   "execution_count": 5,
   "id": "da57d501-d5aa-4de5-9ffa-ed7e20e272df",
   "metadata": {},
   "outputs": [],
   "source": [
    "import numpy as np\n",
    "import pandas as pd\n",
    "\n",
    "from pic_parser.utils import cell_to_array\n",
    "\n",
    "DB = \"E:/Dropbox/SPEED/Self Driving EHD/Data/10-Mar-2022 large nozzle mosaic/logs/measurements.xlsx\"\n",
    "DB = \"E:/Dropbox/SPEED/Self Driving EHD/Data/29-Mar-2022 lg 1cm 300 points/logs/measurements.xlsx\"\n",
    "df = pd.read_excel(DB, index_col=0)\n",
    "\n",
    "features = ['absintegral', 'absmax', 'vmag', 'bias', 'maxcumsum']\n",
    "F = np.array(df[features])\n",
    "\n",
    "X = np.array([cell_to_array(x) for x in df.vector])\n",
    "Y = np.array(df.area)\n",
    "\n",
    "# for i in df.index:\n",
    "#     df.wave.loc[i] = cell_to_array(df.wave.loc[i])"
   ]
  },
  {
   "cell_type": "code",
   "execution_count": 6,
   "id": "3849b693-0be0-4605-be48-63de62ce1724",
   "metadata": {},
   "outputs": [],
   "source": [
    "# Initialize some ML kit\n",
    "from scipy.stats import linregress\n",
    "\n",
    "from sklearn import metrics\n",
    "from sklearn.model_selection import KFold\n",
    "\n",
    "from sklearn.ensemble import RandomForestRegressor\n",
    "from sklearn.linear_model import Ridge\n",
    "from sklearn.kernel_ridge import KernelRidge\n",
    "from sklearn.neural_network import MLPRegressor\n",
    "from sklearn.neighbors import KNeighborsRegressor\n",
    "\n",
    "\n",
    "def calc_auc(Y, Y_true):\n",
    "    thresh = 0\n",
    "    auc = metrics.roc_auc_score(Y_true > thresh,\n",
    "                                Y > thresh)\n",
    "    return auc\n",
    "\n",
    "\n",
    "def calc_mae(Y, Y_true):\n",
    "    mae = np.abs(Y - Y_true).mean()\n",
    "    return mae\n",
    "\n",
    "\n",
    "def calc_mse(Y, Y_true):\n",
    "    mse = ((Y - Y_true)**2).mean()\n",
    "    return mse\n",
    "\n",
    "\n",
    "def calc_r_val(Y, Y_true):\n",
    "    # slope, intercept, r_value, p_value, std_err\n",
    "    _, _, r_value, _, _ = linregress(Y, Y_true)\n",
    "    return r_value\n",
    "\n",
    "\n",
    "def norm(x):\n",
    "    mean = x.mean(0)\n",
    "    std = x.std(0)\n",
    "    return (x - mean)/std, mean, std\n",
    "\n",
    "\n",
    "class MLE_Regressor():\n",
    "    def __init__(self):\n",
    "        self.answers = None\n",
    "    def fit(self, X, Y):\n",
    "        self.answers = Y.mean(0)\n",
    "    def predict(self, X):\n",
    "        '''Unpredictable for multiple X!'''\n",
    "        return self.answers\n",
    "\n",
    "\n",
    "def LOO(X, Y, model, plot=False):\n",
    "    N = Y.shape[0]\n",
    "    guesses = np.zeros(Y.shape)\n",
    "    for i in range(N):\n",
    "        trainset = np.arange(N) != i\n",
    "        X_train = X[trainset, :]\n",
    "        Y_train = Y[trainset]\n",
    "        # TODO stop overfitting!:\n",
    "        # X_train = X\n",
    "        # Y_train = Y\n",
    "        model.fit(X_train, Y_train)\n",
    "        guesses[i] = model.predict(X[i][None, :])\n",
    "    if plot:\n",
    "        plt.plot(Y, guesses, '*'); plt.xlabel('truth'); plt.ylabel('prediction')\n",
    "#         plt.savefig('sin coef best model.png')\n",
    "#         plt.savefig('custom feat best model.png')\n",
    "        plt.show()\n",
    "    return calc_mae(Y, guesses), calc_mse(Y, guesses), calc_r_val(Y, guesses), calc_auc(Y, guesses)\n",
    "\n",
    "\n",
    "def eval_N_folds(X, Y, model, plot=False, N=10):\n",
    "    kf = KFold(n_splits=N, shuffle=True, random_state=42)\n",
    "    for train_index, test_index in kf.split(X):\n",
    "        # TODO\n",
    "\n",
    "Y, mean, std = norm(Y)"
   ]
  },
  {
   "cell_type": "code",
   "execution_count": 7,
   "id": "e40f143d-9695-48b1-b828-e8bab65e52eb",
   "metadata": {},
   "outputs": [
    {
     "name": "stdout",
     "output_type": "stream",
     "text": [
      "Training MLE...\n",
      "MLE mae: 0.8297   mse: 1.0072   r: -1.0000   auc: 0.0000\n",
      "\n",
      "Training KNN...\n",
      "KNN mae: 0.6799   mse: 0.8682   r: 0.4106   auc: 0.6717\n",
      "\n",
      "Training Ridge...\n",
      "Ridge mae: 0.8240   mse: 1.0218   r: 0.0322   auc: 0.5721\n",
      "\n",
      "Training Kernel...\n",
      "Kernel mae: 0.8251   mse: 1.0144   r: 0.0506   auc: 0.5478\n",
      "\n",
      "Training Random Forest...\n",
      "Random Forest LOO results:\n"
     ]
    },
    {
     "data": {
      "image/png": "[encoded data removed]",
      "text/plain": [
       "<Figure size 720x576 with 1 Axes>"
      ]
     },
     "metadata": {
      "needs_background": "light"
     },
     "output_type": "display_data"
    },
    {
     "name": "stdout",
     "output_type": "stream",
     "text": [
      "Random Forest mae: 0.6583   mse: 0.7593   r: 0.4907   auc: 0.7025\n",
      "\n",
      "Training MLP...\n",
      "MLP mae: 0.6877   mse: 0.7923   r: 0.5368   auc: 0.7474\n",
      "\n"
     ]
    }
   ],
   "source": [
    "results = pd.DataFrame(columns=('model', 'mae', 'mse', 'r', 'auc'))\n",
    "models = {'MLE': MLE_Regressor(),\n",
    "         'KNN': KNeighborsRegressor(),\n",
    "         'Ridge': Ridge(),\n",
    "         'Kernel': KernelRidge(),\n",
    "         'Random Forest': RandomForestRegressor(),\n",
    "         'MLP': MLPRegressor(max_iter=2000)}\n",
    "best = 'Random Forest'\n",
    "\n",
    "for label, model in models.items():\n",
    "    print(f'Training {label}...')\n",
    "    if label == best:\n",
    "        print(f'{label} LOO results:')\n",
    "        mae, mse, r_val, auc = LOO(X, Y, model, plot=True)\n",
    "    else:\n",
    "        mae, mse, r_val, auc = LOO(X, Y, model)\n",
    "    print(f'{label} mae: {mae:.4f}   mse: {mse:.4f}   r: {r_val:.4f}   auc: {auc:.4f}', end='\\n\\n')\n",
    "    results = results.append({'model': label, 'mae': mae, 'mse': mse, 'r': r_val, 'auc': auc},\n",
    "                             ignore_index=True)\n",
    "results.to_excel('training_summary.xlsx')"
   ]
  },
  {
   "cell_type": "code",
   "execution_count": 8,
   "id": "d101108e-6a05-4c4b-b1ec-fec7693c271c",
   "metadata": {},
   "outputs": [
    {
     "name": "stdout",
     "output_type": "stream",
     "text": [
      "Training MLE...\n",
      "MLE mae: 0.8297   mse: 1.0072   r: -1.0000   auc: 0.0000\n",
      "\n",
      "Training KNN...\n",
      "KNN mae: 0.7480   mse: 0.9361   r: 0.3633   auc: 0.6007\n",
      "\n",
      "Training Ridge...\n",
      "Ridge LOO results:\n"
     ]
    },
    {
     "data": {
      "image/png": "[encoded data removed]",
      "text/plain": [
       "<Figure size 720x576 with 1 Axes>"
      ]
     },
     "metadata": {
      "needs_background": "light"
     },
     "output_type": "display_data"
    },
    {
     "name": "stdout",
     "output_type": "stream",
     "text": [
      "Ridge mae: 0.5491   mse: 0.5196   r: 0.6955   auc: 0.8255\n",
      "\n",
      "Training Kernel...\n",
      "Kernel mae: 0.7870   mse: 0.9081   r: 0.3254   auc: 0.5914\n",
      "\n",
      "Training Random Forest...\n",
      "Random Forest mae: 0.4858   mse: 0.4700   r: 0.7319   auc: 0.8463\n",
      "\n",
      "Training MLP...\n",
      "MLP mae: 0.7299   mse: 0.9387   r: 0.3423   auc: 0.6748\n",
      "\n"
     ]
    }
   ],
   "source": [
    "results = pd.DataFrame(columns=('model', 'mae', 'mse', 'r', 'auc'))\n",
    "models = {'MLE': MLE_Regressor(),\n",
    "         'KNN': KNeighborsRegressor(),\n",
    "         'Ridge': Ridge(),\n",
    "         'Kernel': KernelRidge(),\n",
    "         'Random Forest': RandomForestRegressor(),\n",
    "         'MLP': MLPRegressor(max_iter=2000)}\n",
    "best = 'Ridge'\n",
    "\n",
    "for label, model in models.items():\n",
    "    print(f'Training {label}...')\n",
    "    if label == best:\n",
    "        print(f'{label} LOO results:')\n",
    "        mae, mse, r_val, auc = LOO(F, Y, model, plot=True)\n",
    "    else:\n",
    "        mae, mse, r_val, auc = LOO(F, Y, model)\n",
    "    print(f'{label} mae: {mae:.4f}   mse: {mse:.4f}   r: {r_val:.4f}   auc: {auc:.4f}', end='\\n\\n')\n",
    "    results = results.append({'model': label, 'mae': mae, 'mse': mse, 'r': r_val, 'auc': auc},\n",
    "                             ignore_index=True)\n",
    "results.to_excel('training_summary_customfeat.xlsx')"
   ]
  },
  {
   "cell_type": "code",
   "execution_count": 9,
   "id": "faa0d413-551e-48e4-bf71-c269df4b22e6",
   "metadata": {},
   "outputs": [
    {
     "name": "stdout",
     "output_type": "stream",
     "text": [
      "Training MLE...\n",
      "MLE mae: 0.8297   mse: 1.0072   r: -1.0000   auc: 0.0000\n",
      "\n",
      "Training KNN...\n",
      "KNN mae: 0.7427   mse: 0.9496   r: 0.3532   auc: 0.6092\n",
      "\n",
      "Training Ridge...\n",
      "Ridge mae: 0.5563   mse: 0.5335   r: 0.6842   auc: 0.8224\n",
      "\n",
      "Training Kernel...\n",
      "Kernel mae: 0.7829   mse: 0.9196   r: 0.3020   auc: 0.6134\n",
      "\n",
      "Training Random Forest...\n",
      "Random Forest LOO results:\n"
     ]
    },
    {
     "data": {
      "image/png": "[encoded data removed]",
      "text/plain": [
       "<Figure size 720x576 with 1 Axes>"
      ]
     },
     "metadata": {
      "needs_background": "light"
     },
     "output_type": "display_data"
    },
    {
     "name": "stdout",
     "output_type": "stream",
     "text": [
      "Random Forest mae: 0.4910   mse: 0.4695   r: 0.7301   auc: 0.8383\n",
      "\n",
      "Training MLP...\n",
      "MLP mae: 0.7605   mse: 0.9830   r: 0.2921   auc: 0.6690\n",
      "\n"
     ]
    }
   ],
   "source": [
    "results = pd.DataFrame(columns=('model', 'mae', 'mse', 'r', 'auc'))\n",
    "models = {'MLE': MLE_Regressor(),\n",
    "         'KNN': KNeighborsRegressor(),\n",
    "         'Ridge': Ridge(),\n",
    "         'Kernel': KernelRidge(),\n",
    "         'Random Forest': RandomForestRegressor(),\n",
    "         'MLP': MLPRegressor(max_iter=2000)}\n",
    "best = 'Random Forest'\n",
    "\n",
    "G = np.concatenate((X, F), 1)\n",
    "\n",
    "for label, model in models.items():\n",
    "    print(f'Training {label}...')\n",
    "    if label == best:\n",
    "        print(f'{label} LOO results:')\n",
    "        mae, mse, r_val, auc = LOO(G, Y, model, plot=True)\n",
    "    else:\n",
    "        mae, mse, r_val, auc = LOO(G, Y, model)\n",
    "    print(f'{label} mae: {mae:.4f}   mse: {mse:.4f}   r: {r_val:.4f}   auc: {auc:.4f}', end='\\n\\n')\n",
    "    results = results.append({'model': label, 'mae': mae, 'mse': mse, 'r': r_val, 'auc': auc},\n",
    "                             ignore_index=True)\n",
    "results.to_excel('training_summary_combinedfeat.xlsx')"
   ]
  }
 ],
 "metadata": {
  "kernelspec": {
   "display_name": "Python 3 (ipykernel)",
   "language": "python",
   "name": "python3"
  },
  "language_info": {
   "codemirror_mode": {
    "name": "ipython",
    "version": 3
   },
   "file_extension": ".py",
   "mimetype": "text/x-python",
   "name": "python",
   "nbconvert_exporter": "python",
   "pygments_lexer": "ipython3",
   "version": "3.9.7"
  }
 },
 "nbformat": 4,
 "nbformat_minor": 5
}
